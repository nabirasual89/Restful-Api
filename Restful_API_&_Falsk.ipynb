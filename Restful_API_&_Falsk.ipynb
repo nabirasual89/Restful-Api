{
  "cells": [
    {
      "cell_type": "markdown",
      "metadata": {
        "id": "bKb_bzFxegcb"
      },
      "source": [
        "# **Restful API & Falsk**"
      ]
    },
    {
      "cell_type": "markdown",
      "metadata": {
        "id": "0RbFHkzeesm2"
      },
      "source": [
        "1. What is a  RESTful API?\n",
        " - A RESTful API (Representational State Transfer API) is a web service that follows the principles of REST architecture. It's used to let systems communicate over the internet, usually via HTTP.\n",
        "\n",
        "Key points:\n",
        "Uses HTTP methods:\n",
        "\n",
        "GET – retrieve data\n",
        "\n",
        "POST – create data\n",
        "\n",
        "PUT/PATCH – update data\n",
        "\n",
        "DELETE – remove data\n",
        "\n",
        "Stateless: Each request from a client contains all the info needed. No session is stored on the server.\n",
        "\n",
        "Resource-based: Everything is treated as a resource (like /users, /products), and URLs point to these resources.\n",
        "\n",
        "Standard formats: Data is usually sent and received in JSON or XML.\n",
        "\n",
        "Example:\n",
        "GET /api/users/123 – fetches user with ID 123\n",
        "POST /api/products – creates a new product\n",
        "\n",
        "It's widely used because it's simple, scalable, and easy to integrate with front-end apps.\n",
        "\n",
        "\n",
        "\n",
        "\n",
        "\n",
        "\n",
        "\n",
        "\n"
      ]
    },
    {
      "cell_type": "markdown",
      "metadata": {
        "id": "qGe-QJ3be4nk"
      },
      "source": [
        "2. Explain the concept of API specification.\n",
        " - An API specification is a detailed blueprint that defines how an API works — it tells developers exactly how to interact with it.\n",
        "\n",
        "Key elements of an API spec:\n",
        "Endpoints: URLs to access different resources (/users, /orders)\n",
        "\n",
        "Methods: HTTP verbs allowed (GET, POST, PUT, DELETE)\n",
        "\n",
        "Request structure: Expected inputs like headers, parameters, and body format\n",
        "\n",
        "Response format: What kind of data is returned, usually in JSON\n",
        "\n",
        "Error codes: Possible status codes and what they mean (e.g., 404 Not Found, 401 Unauthorized)\n",
        "\n",
        "Authentication: How users are verified (e.g., API keys, OAuth)\n",
        "\n",
        "Why it matters:\n",
        "Helps developers understand and use the API without guessing\n",
        "\n",
        "Makes integration faster and smoother\n",
        "\n",
        "Acts as a **"
      ]
    },
    {
      "cell_type": "markdown",
      "metadata": {
        "id": "JFqORWJsfGE7"
      },
      "source": [
        "3. What is Falsk, and why is it popular for building APIs?\n",
        "  - Flask is a lightweight Python web framework for building web apps and APIs.\n",
        "\n",
        "Why it's popular for building APIs:\n",
        "\n",
        "Minimal & flexible – You start with a small core and add only what you need.\n",
        "\n",
        "Easy to learn – Simple syntax, good for beginners, and quick projects.\n",
        "\n",
        "Built-in routing – Easy to map URLs to Python functions.\n",
        "\n"
      ]
    },
    {
      "cell_type": "markdown",
      "metadata": {
        "id": "GPZDwQYGfQ_i"
      },
      "source": [
        "4. What is routing in Flask?\n",
        " - Routing in Flask is how you connect URLs to Python functions.\n",
        "\n",
        "How it works:\n",
        "\n",
        "You use the @app.route() decorator to define which URL triggers which function.\n",
        "\n",
        "Example:"
      ]
    },
    {
      "cell_type": "code",
      "execution_count": null,
      "metadata": {
        "id": "uBUbvboSo1wZ"
      },
      "outputs": [],
      "source": [
        "from flask import Flask\n",
        "app = Flask(__name__)\n",
        "\n",
        "@app.route('/hello')\n",
        "def say_hello():\n",
        "    return \"Hello, World!\"\n"
      ]
    },
    {
      "cell_type": "markdown",
      "metadata": {
        "id": "IF3sgV6oo-YQ"
      },
      "source": [
        "When someone visits /hello in the browser, Flask runs the say_hello() function.\n",
        "\n",
        "Key points:\n",
        "\n",
        "Routes can handle different HTTP methods (GET, POST, etc.)\n",
        "\n",
        "You can use dynamic URLs like /user/<username>"
      ]
    },
    {
      "cell_type": "markdown",
      "metadata": {
        "id": "a_JBi1fKfXCx"
      },
      "source": [
        "5. How do you create a simple Flak application?\n",
        " - Here's how to create a simple Flask application: install Flask."
      ]
    },
    {
      "cell_type": "code",
      "execution_count": null,
      "metadata": {
        "colab": {
          "base_uri": "https://localhost:8080/"
        },
        "id": "fKW9TjfUpemU",
        "outputId": "b23598a0-4f4e-4ab9-85c0-4e0d21b87f94"
      },
      "outputs": [
        {
          "name": "stdout",
          "output_type": "stream",
          "text": [
            "Requirement already satisfied: Flask in /usr/local/lib/python3.11/dist-packages (3.1.1)\n",
            "Requirement already satisfied: blinker>=1.9.0 in /usr/local/lib/python3.11/dist-packages (from Flask) (1.9.0)\n",
            "Requirement already satisfied: click>=8.1.3 in /usr/local/lib/python3.11/dist-packages (from Flask) (8.2.0)\n",
            "Requirement already satisfied: itsdangerous>=2.2.0 in /usr/local/lib/python3.11/dist-packages (from Flask) (2.2.0)\n",
            "Requirement already satisfied: jinja2>=3.1.2 in /usr/local/lib/python3.11/dist-packages (from Flask) (3.1.6)\n",
            "Requirement already satisfied: markupsafe>=2.1.1 in /usr/local/lib/python3.11/dist-packages (from Flask) (3.0.2)\n",
            "Requirement already satisfied: werkzeug>=3.1.0 in /usr/local/lib/python3.11/dist-packages (from Flask) (3.1.3)\n"
          ]
        }
      ],
      "source": [
        "    pip install Flask"
      ]
    },
    {
      "cell_type": "markdown",
      "metadata": {
        "id": "jWvW_gJ8pn32"
      },
      "source": [
        "Create a Python file: (e.g., app.py):"
      ]
    },
    {
      "cell_type": "code",
      "execution_count": null,
      "metadata": {
        "colab": {
          "background_save": true,
          "base_uri": "https://localhost:8080/"
        },
        "id": "UK6Mnlt4qLrU",
        "outputId": "ace7bfa2-88f0-4c41-9528-b376ece549a3"
      },
      "outputs": [
        {
          "name": "stdout",
          "output_type": "stream",
          "text": [
            " * Serving Flask app '__main__'\n",
            " * Debug mode: on\n"
          ]
        },
        {
          "name": "stderr",
          "output_type": "stream",
          "text": [
            "INFO:werkzeug:\u001b[31m\u001b[1mWARNING: This is a development server. Do not use it in a production deployment. Use a production WSGI server instead.\u001b[0m\n",
            " * Running on http://127.0.0.1:5000\n",
            "INFO:werkzeug:\u001b[33mPress CTRL+C to quit\u001b[0m\n",
            "INFO:werkzeug: * Restarting with stat\n"
          ]
        }
      ],
      "source": [
        "    from flask import Flask\n",
        "\n",
        "    app = Flask(__name__)\n",
        "\n",
        "    @app.route('/')\n",
        "    def hello_world():\n",
        "        return 'Hello, World!'\n",
        "\n",
        "    if __name__ == '__main__':\n",
        "        app.run(debug=True)"
      ]
    },
    {
      "cell_type": "markdown",
      "metadata": {
        "id": "eopYUlo3p8J0"
      },
      "source": [
        "Run the application."
      ]
    },
    {
      "cell_type": "code",
      "execution_count": null,
      "metadata": {
        "colab": {
          "base_uri": "https://localhost:8080/",
          "height": 106
        },
        "id": "piSg2xiIqBJU",
        "outputId": "4f50f3dd-a408-4f74-ba96-bf8b4c09d43d"
      },
      "outputs": [
        {
          "ename": "SyntaxError",
          "evalue": "invalid syntax (<ipython-input-2-b851947b46d7>, line 1)",
          "output_type": "error",
          "traceback": [
            "\u001b[0;36m  File \u001b[0;32m\"<ipython-input-2-b851947b46d7>\"\u001b[0;36m, line \u001b[0;32m1\u001b[0m\n\u001b[0;31m    python app.py\u001b[0m\n\u001b[0m           ^\u001b[0m\n\u001b[0;31mSyntaxError\u001b[0m\u001b[0;31m:\u001b[0m invalid syntax\n"
          ]
        }
      ],
      "source": [
        "    python app.py"
      ]
    },
    {
      "cell_type": "markdown",
      "metadata": {
        "id": "Hlx0Gvkqff_y"
      },
      "source": [
        "6. What are HTTP methods used in RESTFUL APIs?\n",
        "  - Here are the main HTTP methods used in RESTful APIs:\n",
        "\n",
        "🔹 GET\n",
        "Purpose: Retrieve data\n",
        "\n",
        "Example: GET /products → get a list of products\n",
        "\n",
        "🔹 POST\n",
        "Purpose: Create a new resource\n",
        "\n",
        "Example: POST /products → create a new product\n",
        "\n",
        "🔹 PUT\n",
        "Purpose: Replace an existing resource\n",
        "\n",
        "Example: PUT /products/10 → update all data for product 10\n",
        "\n",
        "🔹 PATCH\n",
        "Purpose: Update part of a resource\n",
        "\n",
        "Example: PATCH /products/10 → update only the price\n",
        "\n",
        "🔹 DELETE\n",
        "Purpose: Delete a resource\n",
        "\n",
        "Example: DELETE /products/10 → delete product 10\n",
        "\n",
        "These methods help map HTTP actions to CRUD operations:\n",
        "\n",
        "Create → POST\n",
        "\n",
        "Read → GET\n",
        "\n",
        "Update → PUT/PATCH\n",
        "\n",
        "Delete → DELETE\n",
        "\n",
        "\n",
        "\n",
        "\n",
        "\n",
        "\n",
        "\n",
        "\n"
      ]
    },
    {
      "cell_type": "markdown",
      "metadata": {
        "id": "dFlZN_uafrEw"
      },
      "source": [
        "7. What is the purpose of the @app.route() decorator in Flask?\n",
        " - The @app.route() decorator in Flask is used to define a URL route for a specific function.\n",
        "\n",
        "🔧 Purpose:\n",
        "\n",
        "It tells Flask:\n",
        "\"When this URL is requested, run this function.\"\n",
        "\n",
        "🧾 Example:"
      ]
    },
    {
      "cell_type": "code",
      "execution_count": null,
      "metadata": {
        "id": "7SSuGFrNrUKN"
      },
      "outputs": [],
      "source": [
        "@app.route('/hello')\n",
        "def greet():\n",
        "    return \"Hello, World!\"\n"
      ]
    },
    {
      "cell_type": "markdown",
      "metadata": {
        "id": "cC0ZAHzmrj5V"
      },
      "source": [
        "➡️ When you visit /hello in the browser, Flask runs greet() and shows \"Hello, World!\"\n",
        "\n",
        "✅ Key Points:\n",
        "Binds URLs to functions\n",
        "\n",
        "Can handle different HTTP methods (like GET, POST)\n",
        "\n",
        "Supports dynamic paths (e.g., /user/<name>)\n",
        "\n",
        "It’s the core of routing in Flask apps."
      ]
    },
    {
      "cell_type": "markdown",
      "metadata": {
        "id": "c0YmgO-ZgAiE"
      },
      "source": [
        "8. What is the difference between GET and POST HTTP methods?\n",
        " - The main difference between GET and POST HTTP methods lies in their intended use: GET is for retrieving data, while POST is for sending data to the server, often for creating or updating resources. GET requests send data in the URL, making it visible and cacheable, while POST requests send data in the request body, keeping it hidden and not typically cacheable.\n",
        "\n",
        "Elaboration:\n",
        "\n",
        "GET:\n",
        "\n",
        "Used to request data from a server. It should only retrieve information and not modify the server's state. The data is included in the URL as query parameters, making it visible and potentially logged.\n",
        "\n",
        "POST:\n",
        "\n",
        "Used to send data to the server, often to create new resources or update existing ones. The data is sent"
      ]
    },
    {
      "cell_type": "markdown",
      "metadata": {
        "id": "qcHXZmVCgJ2h"
      },
      "source": [
        "9. How do you handle errors in Flask APIs?\n",
        " - Error handling in Flask APIs can be implemented using the @app.errorhandler decorator or the abort() function. The @app.errorhandler decorator allows you to define custom error handlers for specific HTTP status codes or exception types. The abort() function raises an HTTPException with a specified status code, which can then be handled by an error handler.\n",
        "Here's how you can handle errors in a Flask API: Using @app.errorhandler."
      ]
    },
    {
      "cell_type": "code",
      "execution_count": null,
      "metadata": {
        "colab": {
          "background_save": true,
          "base_uri": "https://localhost:8080/"
        },
        "id": "8KZpR2hVsulH",
        "outputId": "afeb6071-faf9-4660-f9b1-5a6cf1b86697"
      },
      "outputs": [
        {
          "name": "stdout",
          "output_type": "stream",
          "text": [
            " * Serving Flask app '__main__'\n",
            " * Debug mode: on\n"
          ]
        },
        {
          "name": "stderr",
          "output_type": "stream",
          "text": [
            "INFO:werkzeug:\u001b[31m\u001b[1mWARNING: This is a development server. Do not use it in a production deployment. Use a production WSGI server instead.\u001b[0m\n",
            " * Running on http://127.0.0.1:5000\n",
            "INFO:werkzeug:\u001b[33mPress CTRL+C to quit\u001b[0m\n",
            "INFO:werkzeug: * Restarting with stat\n"
          ]
        }
      ],
      "source": [
        "from flask import Flask, jsonify\n",
        "\n",
        "app = Flask(__name__)\n",
        "\n",
        "@app.errorhandler(404)\n",
        "def not_found(error):\n",
        "    return jsonify({'error': 'Not found'}), 404\n",
        "\n",
        "@app.errorhandler(500)\n",
        "def internal_server_error(error):\n",
        "    return jsonify({'error': 'Internal server error'}), 500\n",
        "\n",
        "@app.route('/')\n",
        "def index():\n",
        "    # Simulate an error\n",
        "    raise Exception()\n",
        "    return 'Hello, World!'\n",
        "\n",
        "if __name__ == '__main__':\n",
        "    app.run(debug=True)"
      ]
    },
    {
      "cell_type": "markdown",
      "metadata": {
        "id": "_jog8-J4gTam"
      },
      "source": [
        "10. How do you connect Flask to a SQL database?\n",
        " -\n",
        "Setting Up SQLAlchemy\n",
        "\n",
        "To create a database we need to import SQLAlchemy in app.py, set up SQLite configuration, and create a database instance as shown below.\n",
        "\n",
        "We set up Flask, connect it to a SQLite database (site. ...\n",
        "\n",
        "In the templates folder, create file \"add_profile. ...\n",
        "\n",
        "Create a \"/add\" route in app.py."
      ]
    },
    {
      "cell_type": "markdown",
      "metadata": {
        "id": "wQFEx5ppgqd4"
      },
      "source": [
        "11. What is the role of Flask-SQLAlchemy?\n",
        "\n",
        " - Flask-SQLAlchemy is a Flask extension that makes using SQLAlchemy with Flask easier, providing you with tools and methods to interact with your database in your Flask applications through SQLAlchemy. In this tutorial, you'll build a small student management system that demonstrates how to use the Flask-SQLAlchemy extension"
      ]
    },
    {
      "cell_type": "markdown",
      "metadata": {
        "id": "VyeN6LbRg0kl"
      },
      "source": [
        "12. What is the purpose of Flask's request object?\n",
        " - The purpose of Flask's request object is to give access to all the data sent by the client in an HTTP request. It lets you interact with:\n",
        "\n",
        "Form data (from POST requests): request.form\n",
        "\n",
        "Query parameters (from GET requests): request.args\n",
        "\n",
        "JSON payloads: request.get_json()\n",
        "\n",
        "Headers: request.headers\n",
        "\n",
        "Cookies: request.cookies\n",
        "\n",
        "Files (for uploads): request.files\n",
        "\n",
        "Method type: request.method\n",
        "\n",
        "URL: request.url, request.path\n",
        "\n",
        "Basically, it helps your Flask app read incoming data so you can handle requests properly."
      ]
    },
    {
      "cell_type": "markdown",
      "metadata": {
        "id": "YJ1AR8Zqg_H1"
      },
      "source": [
        "13. What is the purpose of Flask's request object?\n",
        " - Flask’s request object lets your app access all the data sent by the client in an HTTP request—like form inputs, query parameters, JSON data, headers, cookies, files, and the request method. It’s how you read what the user or client is sending to your server.\n",
        "\n",
        "\n",
        "\n",
        "\n",
        "\n",
        "\n",
        "\n",
        "\n"
      ]
    },
    {
      "cell_type": "markdown",
      "metadata": {
        "id": "4azZHKkshKP3"
      },
      "source": [
        "14. How do you create a RESTful API endpoint using Flask?\n",
        " - To create a RESTful API endpoint in Flask:\n",
        "\n",
        "Import Flask and create an app instance.\n",
        "\n",
        "Use the @app.route decorator with the URL and HTTP methods.\n",
        "\n",
        "Define a function that handles the request and returns a response (usually JSON).\n",
        "\n",
        "Example:"
      ]
    },
    {
      "cell_type": "code",
      "execution_count": null,
      "metadata": {
        "colab": {
          "base_uri": "https://localhost:8080/"
        },
        "id": "S1aJmsWvxxhR",
        "outputId": "d75c15c5-17d6-4b34-cfc7-5f7bc9882fa0"
      },
      "outputs": [
        {
          "name": "stdout",
          "output_type": "stream",
          "text": [
            " * Serving Flask app '__main__'\n",
            " * Debug mode: off\n"
          ]
        },
        {
          "name": "stderr",
          "output_type": "stream",
          "text": [
            "INFO:werkzeug:\u001b[31m\u001b[1mWARNING: This is a development server. Do not use it in a production deployment. Use a production WSGI server instead.\u001b[0m\n",
            " * Running on http://127.0.0.1:5000\n",
            "INFO:werkzeug:\u001b[33mPress CTRL+C to quit\u001b[0m\n"
          ]
        }
      ],
      "source": [
        "from flask import Flask, jsonify, request\n",
        "\n",
        "app = Flask(__name__)\n",
        "\n",
        "@app.route('/api/items', methods=['GET'])\n",
        "def get_items():\n",
        "    items = ['item1', 'item2', 'item3']\n",
        "    return jsonify(items)\n",
        "\n",
        "if __name__ == '__main__':\n",
        "    app.run()\n"
      ]
    },
    {
      "cell_type": "markdown",
      "metadata": {
        "id": "mYiRww8ex2Ck"
      },
      "source": [
        "This creates a simple GET endpoint at /api/items that returns a JSON list. You can add POST, PUT, DELETE similarly by changing the methods and handling data from request."
      ]
    },
    {
      "cell_type": "markdown",
      "metadata": {
        "id": "8dGnVrIHhUQb"
      },
      "source": [
        "15. What is the purpose of Flask's jsonify() function?\n",
        " - The purpose of Flask's jsonify() function is to convert Python data structures (like dictionaries or lists) into a JSON-formatted HTTP response. It also sets the correct Content-Type header to application/json.\n",
        "\n",
        "Why use jsonify() instead of json.dumps()?\n",
        "jsonify() automatically sets the Content-Type: application/json header.\n",
        "\n",
        "It returns a Flask Response object, which is directly usable as a return value from a route.\n",
        "\n",
        "It handles encoding of special types (like datetime) more gracefully in some cases.\n",
        "\n",
        "Example:"
      ]
    },
    {
      "cell_type": "code",
      "execution_count": null,
      "metadata": {
        "id": "cOIXgn_n2WcO"
      },
      "outputs": [],
      "source": [
        "from flask import Flask, jsonify\n",
        "\n",
        "app = Flask(__name__)\n",
        "\n",
        "@app.route('/data')\n",
        "def get_data():\n",
        "    return jsonify({'name': 'John', 'age': 30})\n"
      ]
    },
    {
      "cell_type": "markdown",
      "metadata": {
        "id": "DG6J976L2fjc"
      },
      "source": [
        "This will return:"
      ]
    },
    {
      "cell_type": "code",
      "execution_count": null,
      "metadata": {
        "colab": {
          "base_uri": "https://localhost:8080/"
        },
        "id": "YrwkKTdT2azB",
        "outputId": "54f89fe1-d383-44c8-fabd-1c6aebcad220"
      },
      "outputs": [
        {
          "data": {
            "text/plain": [
              "{'name': 'John', 'age': 30}"
            ]
          },
          "execution_count": 8,
          "metadata": {},
          "output_type": "execute_result"
        }
      ],
      "source": [
        "{\n",
        "  \"name\": \"John\",\n",
        "  \"age\": 30\n",
        "}\n"
      ]
    },
    {
      "cell_type": "markdown",
      "metadata": {
        "id": "pFE3Ky-jhh_x"
      },
      "source": [
        "16. Explain Flask's url_for() function.\n",
        " - Flask's url_for() function is used to dynamically build URLs for routes defined in your app, based on the function name (not hardcoded paths). This helps keep your code flexible and maintainable.\n",
        "\n",
        "Purpose:\n",
        "Avoids hardcoding URLs.\n",
        "\n",
        "Automatically adapts if the route changes.\n",
        "\n",
        "Supports adding query parameters easily.\n",
        "\n",
        "Syntax:"
      ]
    },
    {
      "cell_type": "code",
      "execution_count": null,
      "metadata": {
        "colab": {
          "base_uri": "https://localhost:8080/",
          "height": 141
        },
        "id": "jSDgT1cO2z__",
        "outputId": "3879477d-66f5-4bb0-ff87-8539ded7082f"
      },
      "outputs": [
        {
          "ename": "NameError",
          "evalue": "name 'url_for' is not defined",
          "output_type": "error",
          "traceback": [
            "\u001b[0;31m---------------------------------------------------------------------------\u001b[0m",
            "\u001b[0;31mNameError\u001b[0m                                 Traceback (most recent call last)",
            "\u001b[0;32m<ipython-input-7-b5bbe7657376>\u001b[0m in \u001b[0;36m<cell line: 0>\u001b[0;34m()\u001b[0m\n\u001b[0;32m----> 1\u001b[0;31m \u001b[0murl_for\u001b[0m\u001b[0;34m(\u001b[0m\u001b[0;34m'function_name'\u001b[0m\u001b[0;34m,\u001b[0m \u001b[0;34m**\u001b[0m\u001b[0mparams\u001b[0m\u001b[0;34m)\u001b[0m\u001b[0;34m\u001b[0m\u001b[0;34m\u001b[0m\u001b[0m\n\u001b[0m",
            "\u001b[0;31mNameError\u001b[0m: name 'url_for' is not defined"
          ]
        }
      ],
      "source": [
        "url_for('function_name', **params)\n"
      ]
    },
    {
      "cell_type": "markdown",
      "metadata": {
        "id": "4tb8R2KP26O-"
      },
      "source": [
        "Example:"
      ]
    },
    {
      "cell_type": "code",
      "execution_count": null,
      "metadata": {
        "colab": {
          "base_uri": "https://localhost:8080/",
          "height": 106
        },
        "id": "BJwwhO-L27F-",
        "outputId": "f5347447-646b-44a0-fc0f-28d1722f136e"
      },
      "outputs": [
        {
          "ename": "SyntaxError",
          "evalue": "trailing comma not allowed without surrounding parentheses (<ipython-input-6-417d19d03b65>, line 1)",
          "output_type": "error",
          "traceback": [
            "\u001b[0;36m  File \u001b[0;32m\"<ipython-input-6-417d19d03b65>\"\u001b[0;36m, line \u001b[0;32m1\u001b[0m\n\u001b[0;31m    from flask import Flask,\u001b[0m\n\u001b[0m                            ^\u001b[0m\n\u001b[0;31mSyntaxError\u001b[0m\u001b[0;31m:\u001b[0m trailing comma not allowed without surrounding parentheses\n"
          ]
        }
      ],
      "source": [
        "from flask import Flask,\n"
      ]
    },
    {
      "cell_type": "markdown",
      "metadata": {
        "id": "-FLV1AZIhrCE"
      },
      "source": [
        "17. How does Flask handle static files (CSS, JavaScript, etc.)?\n",
        " - Flask automatically handles static files like CSS, JavaScript, and images through a designated \"static\" folder within your application directory. When a Flask application is created, it sets up a route, /static, to serve files from this folder. To include a static file in a template, you use the url_for() function, specifying 'static' and the filename. For example, to include a CSS file named \"style.css\" located in the \"static/css\" folder, you would use:"
      ]
    },
    {
      "cell_type": "code",
      "execution_count": null,
      "metadata": {
        "colab": {
          "base_uri": "https://localhost:8080/",
          "height": 106
        },
        "id": "22p6S156yKfB",
        "outputId": "6a8ee8d1-8169-4c56-de1c-ee8a1ebd75ab"
      },
      "outputs": [
        {
          "ename": "SyntaxError",
          "evalue": "invalid syntax (<ipython-input-5-c6a2d96a5014>, line 1)",
          "output_type": "error",
          "traceback": [
            "\u001b[0;36m  File \u001b[0;32m\"<ipython-input-5-c6a2d96a5014>\"\u001b[0;36m, line \u001b[0;32m1\u001b[0m\n\u001b[0;31m    <link rel=\"stylesheet\" href=\"{{ url_for('static', filename='css/style.css') }}\">\u001b[0m\n\u001b[0m    ^\u001b[0m\n\u001b[0;31mSyntaxError\u001b[0m\u001b[0;31m:\u001b[0m invalid syntax\n"
          ]
        }
      ],
      "source": [
        "<link rel=\"stylesheet\" href=\"{{ url_for('static', filename='css/style.css') }}\">"
      ]
    },
    {
      "cell_type": "markdown",
      "metadata": {
        "id": "SLpFmzL3yQKQ"
      },
      "source": [
        "Flask then generates the correct path to the file. It is important to organize static files within the \"static\" directory to maintain a clear structure."
      ]
    },
    {
      "cell_type": "markdown",
      "metadata": {
        "id": "E62XcZlPh_Ww"
      },
      "source": [
        "18. What is an API specification, and how does it help in building a Flask API?\n",
        " - An API specification is a detailed document that defines how an API should behave—covering endpoints, request/response formats, data types, authentication, and error handling.\n",
        "\n",
        "It helps in building a Flask API by:\n",
        "\n",
        "Giving a clear blueprint for what to build\n",
        "\n",
        "Ensuring consistent request and response structures\n",
        "\n",
        "Making it easier to communicate with frontend/dev teams or third parties\n",
        "\n",
        "Enabling tools to auto-generate code, tests, and documentation\n",
        "\n",
        "Common API specs include OpenAPI (Swagger), which many Flask extensions support for smoother API development."
      ]
    },
    {
      "cell_type": "markdown",
      "metadata": {
        "id": "HIppgat0iMoH"
      },
      "source": [
        "19. What are HTTP status codes, and why are they important in a Flask API?\n",
        "- HTTP status codes are standardized numbers sent by a server to indicate the result of a client’s request.\n",
        "\n",
        "They’re important in a Flask API because they:\n",
        "\n",
        "Tell the client if the request was successful (e.g., 200 OK)\n",
        "\n",
        "Indicate errors like bad requests (400), unauthorized access (401), or not found (404)\n",
        "\n",
        "Help clients handle responses properly and debug issues\n",
        "\n",
        "Make your API communication clear and standardized\n",
        "\n",
        "In Flask, you can set status codes in your responses like:\n",
        "\n"
      ]
    },
    {
      "cell_type": "code",
      "execution_count": null,
      "metadata": {
        "colab": {
          "base_uri": "https://localhost:8080/",
          "height": 106
        },
        "id": "TIFaxz4Vys7_",
        "outputId": "e75077aa-6bd9-4b1c-d17a-f3f95632e47f"
      },
      "outputs": [
        {
          "ename": "SyntaxError",
          "evalue": "'return' outside function (<ipython-input-4-c02ab413115b>, line 1)",
          "output_type": "error",
          "traceback": [
            "\u001b[0;36m  File \u001b[0;32m\"<ipython-input-4-c02ab413115b>\"\u001b[0;36m, line \u001b[0;32m1\u001b[0m\n\u001b[0;31m    return jsonify(data), 404\u001b[0m\n\u001b[0m    ^\u001b[0m\n\u001b[0;31mSyntaxError\u001b[0m\u001b[0;31m:\u001b[0m 'return' outside function\n"
          ]
        }
      ],
      "source": [
        "return jsonify(data), 404\n"
      ]
    },
    {
      "cell_type": "markdown",
      "metadata": {
        "id": "Wc1ZGVnmidgP"
      },
      "source": [
        "20. How do you handle POST requests in Flask?\n",
        " - To handle POST requests in Flask:\n",
        "\n",
        "Use @app.route with methods=['POST'].\n",
        "\n",
        "Access the incoming data via request.form, request.json, or request.data.\n",
        "\n",
        "Process the data and return a response.\n",
        "\n",
        "Example:"
      ]
    },
    {
      "cell_type": "code",
      "execution_count": null,
      "metadata": {
        "colab": {
          "base_uri": "https://localhost:8080/"
        },
        "id": "BGjqBBllzLZS",
        "outputId": "74f8269e-66bb-4436-b71e-0ccb50d1be0d"
      },
      "outputs": [
        {
          "name": "stdout",
          "output_type": "stream",
          "text": [
            " * Serving Flask app '__main__'\n",
            " * Debug mode: off\n"
          ]
        },
        {
          "name": "stderr",
          "output_type": "stream",
          "text": [
            "INFO:werkzeug:\u001b[31m\u001b[1mWARNING: This is a development server. Do not use it in a production deployment. Use a production WSGI server instead.\u001b[0m\n",
            " * Running on http://127.0.0.1:5000\n",
            "INFO:werkzeug:\u001b[33mPress CTRL+C to quit\u001b[0m\n"
          ]
        }
      ],
      "source": [
        "from flask import Flask, request, jsonify\n",
        "\n",
        "app = Flask(__name__)\n",
        "\n",
        "@app.route('/submit', methods=['POST'])\n",
        "def submit():\n",
        "    data = request.get_json()  # get JSON data from client\n",
        "    # process data here\n",
        "    return jsonify({'message': 'Data received', 'your_data': data}), 200\n",
        "\n",
        "if __name__ == '__main__':\n",
        "    app.run()\n"
      ]
    },
    {
      "cell_type": "markdown",
      "metadata": {
        "id": "gsbiwpQEiqiC"
      },
      "source": [
        "21. How would you secure a Flask API?\n",
        " - To secure a Flask API, you can:\n",
        "\n",
        "Use Authentication: Implement token-based auth like JWT or OAuth to verify users.\n",
        "\n",
        "Use HTTPS: Serve your API over HTTPS to encrypt data in transit.\n",
        "\n",
        "Validate Input: Always validate and sanitize incoming data to prevent injections.\n",
        "\n",
        "Limit Rate: Apply rate limiting to prevent abuse and DoS attacks.\n",
        "\n",
        "Use CORS Carefully: Configure CORS headers properly to restrict which domains can access your API.\n",
        "\n",
        "Handle Errors Safely: Don’t expose sensitive info in error messages.\n",
        "\n",
        "Keep Dependencies Updated: Regularly update Flask and extensions to patch vulnerabilities.\n",
        "\n",
        "Using Flask extensions like Flask-JWT-Extended, Flask-Limiter, and configuring your server for HTTPS helps a lot.\n",
        "\n",
        "\n",
        "\n",
        "\n",
        "\n",
        "\n",
        "\n",
        "\n"
      ]
    },
    {
      "cell_type": "markdown",
      "metadata": {
        "id": "dpGo_uNCi0N3"
      },
      "source": [
        "22. What is the significance of the Flask-RESTful extension?\n",
        " - Flask-RESTful simplifies building REST APIs with Flask by providing handy tools like:\n",
        "\n",
        "Resource classes to organize endpoints cleanly\n",
        "\n",
        "Automatic request parsing and input validation\n",
        "\n",
        "Easy routing tied to resources\n",
        "\n",
        "Built-in support for common HTTP methods (GET, POST, PUT, DELETE)\n",
        "\n",
        "Cleaner, more maintainable code structure\n",
        "\n",
        "Basically, it speeds up API development and makes your code neater compared to using plain Flask routes."
      ]
    },
    {
      "cell_type": "markdown",
      "metadata": {
        "id": "5viyb119jB7Q"
      },
      "source": [
        "23. What is the role of Flask's session object?\n",
        " - Flask’s session object stores data specific to a user’s browser session. It lets you keep info like login status or user preferences between requests.\n",
        "\n",
        "Key points:\n",
        "\n",
        "Data is stored client-side in a secure cookie\n",
        "\n",
        "It persists across multiple requests until the user closes the browser or the session expires\n",
        "\n",
        "Useful for tracking user state without a database\n",
        "\n",
        "Example:\n"
      ]
    },
    {
      "cell_type": "code",
      "execution_count": null,
      "metadata": {
        "colab": {
          "base_uri": "https://localhost:8080/",
          "height": 391
        },
        "id": "AC69QyrMz3-f",
        "outputId": "686f7f8c-fa24-42ad-a39e-fad8b7e00c67"
      },
      "outputs": [
        {
          "ename": "RuntimeError",
          "evalue": "Working outside of request context.\n\nThis typically means that you attempted to use functionality that needed\nan active HTTP request. Consult the documentation on testing for\ninformation about how to avoid this problem.",
          "output_type": "error",
          "traceback": [
            "\u001b[0;31m---------------------------------------------------------------------------\u001b[0m",
            "\u001b[0;31mRuntimeError\u001b[0m                              Traceback (most recent call last)",
            "\u001b[0;32m<ipython-input-3-39629893bb58>\u001b[0m in \u001b[0;36m<cell line: 0>\u001b[0;34m()\u001b[0m\n\u001b[1;32m      1\u001b[0m \u001b[0;32mfrom\u001b[0m \u001b[0mflask\u001b[0m \u001b[0;32mimport\u001b[0m \u001b[0msession\u001b[0m\u001b[0;34m\u001b[0m\u001b[0;34m\u001b[0m\u001b[0m\n\u001b[1;32m      2\u001b[0m \u001b[0;34m\u001b[0m\u001b[0m\n\u001b[0;32m----> 3\u001b[0;31m \u001b[0msession\u001b[0m\u001b[0;34m[\u001b[0m\u001b[0;34m'user_id'\u001b[0m\u001b[0;34m]\u001b[0m \u001b[0;34m=\u001b[0m \u001b[0;36m123\u001b[0m  \u001b[0;31m# Save user info in session\u001b[0m\u001b[0;34m\u001b[0m\u001b[0;34m\u001b[0m\u001b[0m\n\u001b[0m",
            "\u001b[0;32m/usr/local/lib/python3.11/dist-packages/werkzeug/local.py\u001b[0m in \u001b[0;36m__get__\u001b[0;34m(self, instance, owner)\u001b[0m\n\u001b[1;32m    316\u001b[0m \u001b[0;34m\u001b[0m\u001b[0m\n\u001b[1;32m    317\u001b[0m         \u001b[0;32mtry\u001b[0m\u001b[0;34m:\u001b[0m\u001b[0;34m\u001b[0m\u001b[0;34m\u001b[0m\u001b[0m\n\u001b[0;32m--> 318\u001b[0;31m             \u001b[0mobj\u001b[0m \u001b[0;34m=\u001b[0m \u001b[0minstance\u001b[0m\u001b[0;34m.\u001b[0m\u001b[0m_get_current_object\u001b[0m\u001b[0;34m(\u001b[0m\u001b[0;34m)\u001b[0m\u001b[0;34m\u001b[0m\u001b[0;34m\u001b[0m\u001b[0m\n\u001b[0m\u001b[1;32m    319\u001b[0m         \u001b[0;32mexcept\u001b[0m \u001b[0mRuntimeError\u001b[0m\u001b[0;34m:\u001b[0m\u001b[0;34m\u001b[0m\u001b[0;34m\u001b[0m\u001b[0m\n\u001b[1;32m    320\u001b[0m             \u001b[0;32mif\u001b[0m \u001b[0mself\u001b[0m\u001b[0;34m.\u001b[0m\u001b[0mfallback\u001b[0m \u001b[0;32mis\u001b[0m \u001b[0;32mNone\u001b[0m\u001b[0;34m:\u001b[0m\u001b[0;34m\u001b[0m\u001b[0;34m\u001b[0m\u001b[0m\n",
            "\u001b[0;32m/usr/local/lib/python3.11/dist-packages/werkzeug/local.py\u001b[0m in \u001b[0;36m_get_current_object\u001b[0;34m()\u001b[0m\n\u001b[1;32m    517\u001b[0m                     \u001b[0mobj\u001b[0m \u001b[0;34m=\u001b[0m \u001b[0mlocal\u001b[0m\u001b[0;34m.\u001b[0m\u001b[0mget\u001b[0m\u001b[0;34m(\u001b[0m\u001b[0;34m)\u001b[0m\u001b[0;34m\u001b[0m\u001b[0;34m\u001b[0m\u001b[0m\n\u001b[1;32m    518\u001b[0m                 \u001b[0;32mexcept\u001b[0m \u001b[0mLookupError\u001b[0m\u001b[0;34m:\u001b[0m\u001b[0;34m\u001b[0m\u001b[0;34m\u001b[0m\u001b[0m\n\u001b[0;32m--> 519\u001b[0;31m                     \u001b[0;32mraise\u001b[0m \u001b[0mRuntimeError\u001b[0m\u001b[0;34m(\u001b[0m\u001b[0munbound_message\u001b[0m\u001b[0;34m)\u001b[0m \u001b[0;32mfrom\u001b[0m \u001b[0;32mNone\u001b[0m\u001b[0;34m\u001b[0m\u001b[0;34m\u001b[0m\u001b[0m\n\u001b[0m\u001b[1;32m    520\u001b[0m \u001b[0;34m\u001b[0m\u001b[0m\n\u001b[1;32m    521\u001b[0m                 \u001b[0;32mreturn\u001b[0m \u001b[0mget_name\u001b[0m\u001b[0;34m(\u001b[0m\u001b[0mobj\u001b[0m\u001b[0;34m)\u001b[0m\u001b[0;34m\u001b[0m\u001b[0;34m\u001b[0m\u001b[0m\n",
            "\u001b[0;31mRuntimeError\u001b[0m: Working outside of request context.\n\nThis typically means that you attempted to use functionality that needed\nan active HTTP request. Consult the documentation on testing for\ninformation about how to avoid this problem."
          ]
        }
      ],
      "source": [
        "from flask import session\n",
        "\n",
        "session['user_id'] = 123  # Save user info in session\n"
      ]
    },
    {
      "cell_type": "markdown",
      "metadata": {
        "id": "l_nH3lJ8jNkX"
      },
      "source": [
        "# **Practical**"
      ]
    },
    {
      "cell_type": "markdown",
      "metadata": {
        "id": "uVQVRc_9M7np"
      },
      "source": [
        "# New Section"
      ]
    },
    {
      "cell_type": "markdown",
      "metadata": {
        "id": "vXBocaJZje6b"
      },
      "source": [
        "1. How do you create a basic Flask application?"
      ]
    },
    {
      "cell_type": "markdown",
      "metadata": {
        "id": "2uxqS-mnaatg"
      },
      "source": [
        "1. Install Flask"
      ]
    },
    {
      "cell_type": "code",
      "execution_count": null,
      "metadata": {
        "colab": {
          "base_uri": "https://localhost:8080/"
        },
        "id": "s3Pd_QlfLMAe",
        "outputId": "7be62a60-305b-4813-d4c4-0dc10d5dc14b"
      },
      "outputs": [
        {
          "name": "stdout",
          "output_type": "stream",
          "text": [
            "Requirement already satisfied: flask in /usr/local/lib/python3.11/dist-packages (3.1.1)\n",
            "Requirement already satisfied: blinker>=1.9.0 in /usr/local/lib/python3.11/dist-packages (from flask) (1.9.0)\n",
            "Requirement already satisfied: click>=8.1.3 in /usr/local/lib/python3.11/dist-packages (from flask) (8.2.0)\n",
            "Requirement already satisfied: itsdangerous>=2.2.0 in /usr/local/lib/python3.11/dist-packages (from flask) (2.2.0)\n",
            "Requirement already satisfied: jinja2>=3.1.2 in /usr/local/lib/python3.11/dist-packages (from flask) (3.1.6)\n",
            "Requirement already satisfied: markupsafe>=2.1.1 in /usr/local/lib/python3.11/dist-packages (from flask) (3.0.2)\n",
            "Requirement already satisfied: werkzeug>=3.1.0 in /usr/local/lib/python3.11/dist-packages (from flask) (3.1.3)\n"
          ]
        }
      ],
      "source": [
        "pip install flask\n"
      ]
    },
    {
      "cell_type": "markdown",
      "metadata": {
        "id": "bOKUAmfTaUa9"
      },
      "source": [
        "2. Create Your Flask App File"
      ]
    },
    {
      "cell_type": "code",
      "execution_count": null,
      "metadata": {
        "id": "KwsAbLp4aiBt"
      },
      "outputs": [],
      "source": [
        "from flask import Flask\n",
        "\n",
        "app = Flask(__name__)\n",
        "\n",
        "@app.route('/')\n",
        "def home():\n",
        "    return \"Hello, Flask!\"\n",
        "\n",
        "if __name__ == '__main__':\n",
        "    app.run(debug=True)\n"
      ]
    },
    {
      "cell_type": "markdown",
      "metadata": {
        "id": "oAUPsDjhbQmn"
      },
      "source": [
        "3. Run the App\n"
      ]
    },
    {
      "cell_type": "code",
      "execution_count": null,
      "metadata": {
        "id": "R6lIhSgkbTK0"
      },
      "outputs": [],
      "source": [
        "python app.py\n"
      ]
    },
    {
      "cell_type": "markdown",
      "metadata": {
        "id": "C03GMnZ0bXAs"
      },
      "source": [
        "Go to http://127.0.0.1:5000/ in your browser – you’ll see Hello, Flask!.\n",
        "\n"
      ]
    },
    {
      "cell_type": "markdown",
      "metadata": {
        "id": "dImknU6pkK5M"
      },
      "source": [
        "2. How do you serve static files like images or CSS in Flask?\n",
        " - 🔧 Steps:\n",
        "Create a static folder in your project directory.\n",
        "\n",
        "Put your files inside it:\n",
        "\n",
        "**Use in HTML templates"
      ]
    },
    {
      "cell_type": "code",
      "execution_count": null,
      "metadata": {
        "id": "NIVJYt1Vbv7v"
      },
      "outputs": [],
      "source": [
        "/static\n",
        "    /images\n",
        "        logo.png\n",
        "    /css\n",
        "        style.css\n"
      ]
    },
    {
      "cell_type": "markdown",
      "metadata": {
        "id": "Wcqo2pd_kWK2"
      },
      "source": [
        "3. How do you define different routes with different HTTP methods in Flask?"
      ]
    },
    {
      "cell_type": "code",
      "execution_count": null,
      "metadata": {
        "id": "ZVXNuTwob-1d"
      },
      "outputs": [],
      "source": [
        "from flask import Flask, request\n",
        "\n",
        "app = Flask(__name__)\n",
        "\n",
        "@app.route('/submit', methods=['GET', 'POST'])\n",
        "def submit():\n",
        "    if request.method == 'POST':\n",
        "        return \"Data received via POST\"\n",
        "    else:\n",
        "        return \"Send data via POST method\"\n",
        "\n",
        "if __name__ == '__main__':\n",
        "    app.run(debug=True)\n"
      ]
    },
    {
      "cell_type": "markdown",
      "metadata": {
        "id": "nwVw-F0YcE0k"
      },
      "source": [
        "✅ Notes:\n",
        "\n",
        "Default method is GET if not specified.\n",
        "\n",
        "You can use any of: GET, POST, PUT, DELETE, PATCH, etc.\n",
        "\n",
        "Let me know if you want examples with JSON or form data."
      ]
    },
    {
      "cell_type": "markdown",
      "metadata": {
        "id": "-dxr2DeZkh4N"
      },
      "source": [
        "4. How do you render HTML templates in Flask?\n",
        " - 🔧 Steps:\n",
        "Create a templates folder in your project directory.\n",
        "\n",
        "Add an HTML file, e.g., index.html:"
      ]
    },
    {
      "cell_type": "markdown",
      "metadata": {
        "id": "IrA8cLL3krjw"
      },
      "source": [
        "5. How can you generate URLs for routes in Flask?"
      ]
    },
    {
      "cell_type": "code",
      "execution_count": null,
      "metadata": {
        "id": "w_fujEhzcweL"
      },
      "outputs": [],
      "source": [
        "from flask import Flask, url_for\n",
        "\n",
        "app = Flask(__name__)\n",
        "\n",
        "@app.route('/profile/<username>')\n",
        "def profile(username):\n",
        "    return f\"User: {username}\"\n",
        "\n",
        "@app.route('/')\n",
        "def home():\n",
        "    return url_for('profile', username='john')  # → /profile/john\n",
        "\n",
        "if __name__ == '__main__':\n",
        "    app.run(debug=True)\n"
      ]
    },
    {
      "cell_type": "markdown",
      "metadata": {
        "id": "MtbOu27ic1iH"
      },
      "source": [
        "✅ Why use url_for()?\n",
        "It auto-generates URLs based on function names.\n",
        "\n",
        "Safer than hardcoding paths (adapts if routes change).\n",
        "\n",
        "Let me know if you want to use it in templates too."
      ]
    },
    {
      "cell_type": "markdown",
      "metadata": {
        "id": "FKqSYMU7k479"
      },
      "source": [
        "6. How do you handle forms in Flask?\n",
        " - 🔧 1. HTML Form (templates/form.html)"
      ]
    },
    {
      "cell_type": "code",
      "execution_count": null,
      "metadata": {
        "id": "Z3SV2H1tdGz9"
      },
      "outputs": [],
      "source": [
        "<form method=\"POST\">\n",
        "  <input type=\"text\" name=\"username\" placeholder=\"Enter name\">\n",
        "  <input type=\"submit\" value=\"Submit\">\n",
        "</form>\n"
      ]
    },
    {
      "cell_type": "markdown",
      "metadata": {
        "id": "6sEnyFK5dL4f"
      },
      "source": [
        "🔧 2. Flask Route (app.py)\n"
      ]
    },
    {
      "cell_type": "code",
      "execution_count": null,
      "metadata": {
        "colab": {
          "background_save": true,
          "base_uri": "https://localhost:8080/"
        },
        "id": "6EGgFnQocXzE",
        "outputId": "1ebd3907-ee28-487b-9647-f5ba79df023c"
      },
      "outputs": [
        {
          "name": "stdout",
          "output_type": "stream",
          "text": [
            " * Serving Flask app '__main__'\n",
            " * Debug mode: on\n"
          ]
        },
        {
          "name": "stderr",
          "output_type": "stream",
          "text": [
            "INFO:werkzeug:\u001b[31m\u001b[1mWARNING: This is a development server. Do not use it in a production deployment. Use a production WSGI server instead.\u001b[0m\n",
            " * Running on http://127.0.0.1:5000\n",
            "INFO:werkzeug:\u001b[33mPress CTRL+C to quit\u001b[0m\n",
            "INFO:werkzeug: * Restarting with stat\n"
          ]
        }
      ],
      "source": [
        "from flask import Flask, request, render_template\n",
        "\n",
        "app = Flask(__name__)\n",
        "\n",
        "@app.route('/form', methods=['GET', 'POST'])\n",
        "def form():\n",
        "    if request.method == 'POST':\n",
        "        username = request.form['username']\n",
        "        return f\"Hello, {username}!\"\n",
        "    return render_template('form.html')\n",
        "\n",
        "if __name__ == '__main__':\n",
        "    app.run(debug=True)\n"
      ]
    },
    {
      "cell_type": "markdown",
      "metadata": {
        "id": "_dmQXKf7lZHs"
      },
      "source": [
        "7. How can you validate form data in Flask?\n",
        " - ✅ 1. Basic Manual Validation (Simple Way)"
      ]
    },
    {
      "cell_type": "code",
      "execution_count": null,
      "metadata": {
        "id": "lMOwVQcNdiP_"
      },
      "outputs": [],
      "source": [
        "@app.route('/form', methods=['POST'])\n",
        "def form():\n",
        "    username = request.form.get('username')\n",
        "    if not username:\n",
        "        return \"Username is required\", 400\n",
        "    return f\"Hello, {username}!\"\n"
      ]
    },
    {
      "cell_type": "markdown",
      "metadata": {
        "id": "tCz5nIBulwJ9"
      },
      "source": [
        "8. How do you manage sessions in Flask?\n",
        " - In Flask, session management is handled using the session object from the flask module. Here's the short and crisp overview:\n",
        "\n",
        "🔐 What is a Flask Session?\n",
        "\n",
        "A session lets you store information (like user data) across multiple requests.\n",
        "\n",
        "Flask stores session data on the client side in a secure cookie.\n",
        "\n",
        "⚙️ How to Use Flask Sessions\n",
        "\n",
        "Set up secret key (for encryption)"
      ]
    },
    {
      "cell_type": "code",
      "execution_count": null,
      "metadata": {
        "id": "hPIprn_Ier7e"
      },
      "outputs": [],
      "source": [
        "from flask import Flask, session\n",
        "\n",
        "app = Flask(__name__)\n",
        "app.secret_key = 'your_secret_key_here'\n"
      ]
    },
    {
      "cell_type": "markdown",
      "metadata": {
        "id": "dm07-GVIewRC"
      },
      "source": [
        "Set a session variable\n",
        "\n"
      ]
    },
    {
      "cell_type": "code",
      "execution_count": null,
      "metadata": {
        "colab": {
          "base_uri": "https://localhost:8080/",
          "height": 141
        },
        "id": "vgFiU6m2e0pN",
        "outputId": "357cfa23-5f63-468f-d224-6210a4969764"
      },
      "outputs": [
        {
          "ename": "NameError",
          "evalue": "name 'session' is not defined",
          "output_type": "error",
          "traceback": [
            "\u001b[0;31m---------------------------------------------------------------------------\u001b[0m",
            "\u001b[0;31mNameError\u001b[0m                                 Traceback (most recent call last)",
            "\u001b[0;32m<ipython-input-22-90dea41d1750>\u001b[0m in \u001b[0;36m<cell line: 0>\u001b[0;34m()\u001b[0m\n\u001b[0;32m----> 1\u001b[0;31m \u001b[0msession\u001b[0m\u001b[0;34m[\u001b[0m\u001b[0;34m'username'\u001b[0m\u001b[0;34m]\u001b[0m \u001b[0;34m=\u001b[0m \u001b[0;34m'nabi'\u001b[0m\u001b[0;34m\u001b[0m\u001b[0;34m\u001b[0m\u001b[0m\n\u001b[0m",
            "\u001b[0;31mNameError\u001b[0m: name 'session' is not defined"
          ]
        }
      ],
      "source": [
        "session['username'] = 'nabi'\n"
      ]
    },
    {
      "cell_type": "markdown",
      "metadata": {
        "id": "_vnLrDcoe1jz"
      },
      "source": [
        "Access a session variable"
      ]
    },
    {
      "cell_type": "code",
      "execution_count": null,
      "metadata": {
        "colab": {
          "base_uri": "https://localhost:8080/",
          "height": 141
        },
        "id": "ZTIalzSZe7Rz",
        "outputId": "485b0634-1c06-4003-d3b4-d61f61dbf09c"
      },
      "outputs": [
        {
          "ename": "NameError",
          "evalue": "name 'session' is not defined",
          "output_type": "error",
          "traceback": [
            "\u001b[0;31m---------------------------------------------------------------------------\u001b[0m",
            "\u001b[0;31mNameError\u001b[0m                                 Traceback (most recent call last)",
            "\u001b[0;32m<ipython-input-21-6890bee44e03>\u001b[0m in \u001b[0;36m<cell line: 0>\u001b[0;34m()\u001b[0m\n\u001b[0;32m----> 1\u001b[0;31m \u001b[0musername\u001b[0m \u001b[0;34m=\u001b[0m \u001b[0msession\u001b[0m\u001b[0;34m.\u001b[0m\u001b[0mget\u001b[0m\u001b[0;34m(\u001b[0m\u001b[0;34m'username'\u001b[0m\u001b[0;34m)\u001b[0m\u001b[0;34m\u001b[0m\u001b[0;34m\u001b[0m\u001b[0m\n\u001b[0m",
            "\u001b[0;31mNameError\u001b[0m: name 'session' is not defined"
          ]
        }
      ],
      "source": [
        "username = session.get('username')\n"
      ]
    },
    {
      "cell_type": "markdown",
      "metadata": {
        "id": "wQgf0J-be-nP"
      },
      "source": [
        "Remove session data\n"
      ]
    },
    {
      "cell_type": "code",
      "execution_count": null,
      "metadata": {
        "colab": {
          "base_uri": "https://localhost:8080/",
          "height": 141
        },
        "id": "eoOqw5ucfFKK",
        "outputId": "918052f9-9a17-41ea-e69d-328dbf6d53c9"
      },
      "outputs": [
        {
          "ename": "NameError",
          "evalue": "name 'session' is not defined",
          "output_type": "error",
          "traceback": [
            "\u001b[0;31m---------------------------------------------------------------------------\u001b[0m",
            "\u001b[0;31mNameError\u001b[0m                                 Traceback (most recent call last)",
            "\u001b[0;32m<ipython-input-20-c51428629b0f>\u001b[0m in \u001b[0;36m<cell line: 0>\u001b[0;34m()\u001b[0m\n\u001b[0;32m----> 1\u001b[0;31m \u001b[0msession\u001b[0m\u001b[0;34m.\u001b[0m\u001b[0mpop\u001b[0m\u001b[0;34m(\u001b[0m\u001b[0;34m'username'\u001b[0m\u001b[0;34m,\u001b[0m \u001b[0;32mNone\u001b[0m\u001b[0;34m)\u001b[0m\u001b[0;34m\u001b[0m\u001b[0;34m\u001b[0m\u001b[0m\n\u001b[0m",
            "\u001b[0;31mNameError\u001b[0m: name 'session' is not defined"
          ]
        }
      ],
      "source": [
        "session.pop('username', None)\n"
      ]
    },
    {
      "cell_type": "markdown",
      "metadata": {
        "id": "7emwGa-DfLzF"
      },
      "source": [
        "📦 Behind the Scenes\n",
        "\n",
        "Flask uses secure cookies (flask.session) to store session data.\n",
        "\n",
        "Data is cryptographically signed using the secret_key.\n",
        "\n",
        "Values are stored as key-value pairs (like a dictionary).\n",
        "\n",
        "💡 Tip\n",
        "\n",
        "For large or sensitive data, use server-side sessions with extensions like:\n",
        "\n",
        "Flask-Session (stores in Redis, filesystem, DB, etc.)\n",
        "\n"
      ]
    },
    {
      "cell_type": "markdown",
      "metadata": {
        "id": "AomiAVVbl3F9"
      },
      "source": [
        "9. How do you redirect to a different route in Flask?\n",
        " -  Basic Redirect Example"
      ]
    },
    {
      "cell_type": "code",
      "execution_count": null,
      "metadata": {
        "id": "baRIwdjxfoxn"
      },
      "outputs": [],
      "source": [
        "from flask import Flask, redirect, url_for\n",
        "\n",
        "app = Flask(__name__)\n",
        "\n",
        "@app.route('/')\n",
        "def home():\n",
        "    return redirect(url_for('dashboard'))\n",
        "\n",
        "@app.route('/dashboard')\n",
        "def dashboard():\n",
        "    return 'Welcome to Dashboard'\n"
      ]
    },
    {
      "cell_type": "markdown",
      "metadata": {
        "id": "HeS33mUMfsma"
      },
      "source": [
        "🔍 Key Points\n",
        "\n",
        "redirect() tells Flask to send the user to a new URL.\n",
        "\n",
        "url_for('dashboard') generates the URL for the dashboard route.\n",
        "\n",
        "📌 Example with Parameters"
      ]
    },
    {
      "cell_type": "code",
      "execution_count": null,
      "metadata": {
        "colab": {
          "base_uri": "https://localhost:8080/",
          "height": 106
        },
        "id": "T2u4PklTfyg2",
        "outputId": "265021d1-22da-4aa5-c1d7-aaf723c35a73"
      },
      "outputs": [
        {
          "ename": "SyntaxError",
          "evalue": "'return' outside function (<ipython-input-18-7680a0441855>, line 1)",
          "output_type": "error",
          "traceback": [
            "\u001b[0;36m  File \u001b[0;32m\"<ipython-input-18-7680a0441855>\"\u001b[0;36m, line \u001b[0;32m1\u001b[0m\n\u001b[0;31m    return redirect(url_for('profile', username='nabi'))\u001b[0m\n\u001b[0m    ^\u001b[0m\n\u001b[0;31mSyntaxError\u001b[0m\u001b[0;31m:\u001b[0m 'return' outside function\n"
          ]
        }
      ],
      "source": [
        "return redirect(url_for('profile', username='nabi'))\n"
      ]
    },
    {
      "cell_type": "markdown",
      "metadata": {
        "id": "_sPwwSFmf4bh"
      },
      "source": [
        "This redirects to /profile/nabi if the route is defined as:\n"
      ]
    },
    {
      "cell_type": "code",
      "execution_count": null,
      "metadata": {
        "id": "OWf5sFvNf8Cs"
      },
      "outputs": [],
      "source": [
        "@app.route('/profile/<username>')\n",
        "def profile(username):\n",
        "    return f'User: {username}'\n",
        "\n"
      ]
    },
    {
      "cell_type": "markdown",
      "metadata": {
        "id": "XyaVnQltmDzn"
      },
      "source": [
        "10. How do you handle errors in different routes in Flask?\n",
        " - In Flask, you handle errors in different routes by using error handlers or try-except blocks within routes. Here's a crisp breakdown:\n",
        "\n",
        "✅ 1. Global Error Handlers\n",
        "\n",
        "Use @app.errorhandler() to catch specific error codes globally:"
      ]
    },
    {
      "cell_type": "code",
      "execution_count": null,
      "metadata": {
        "id": "YoCiyV-Dg7WZ"
      },
      "outputs": [],
      "source": [
        "from flask import Flask, jsonify\n",
        "\n",
        "app = Flask(__name__)\n",
        "\n",
        "@app.errorhandler(404)\n",
        "def not_found(e):\n",
        "    return jsonify(error=\"Resource not found\"), 404\n",
        "\n",
        "@app.errorhandler(500)\n",
        "def server_error(e):\n",
        "    return jsonify(error=\"Internal Server Error\"), 500\n"
      ]
    },
    {
      "cell_type": "markdown",
      "metadata": {
        "id": "u_5TXfTRg_VZ"
      },
      "source": [
        "✅ 2. Route-Specific Try-Except\n",
        "\n",
        "Use try-except inside routes to handle logic-specific errors:"
      ]
    },
    {
      "cell_type": "code",
      "execution_count": null,
      "metadata": {
        "id": "Rdms8y0WhHRh"
      },
      "outputs": [],
      "source": [
        "@app.route(\"/divide/<int:a>/<int:b>\")\n",
        "def divide(a, b):\n",
        "    try:\n",
        "        result = a / b\n",
        "        return jsonify(result=result)\n",
        "    except ZeroDivisionError:\n",
        "        return jsonify(error=\"Division by zero\"), 400\n"
      ]
    },
    {
      "cell_type": "markdown",
      "metadata": {
        "id": "pa3KRpN0hMqf"
      },
      "source": [
        "✅ 3. Custom Exceptions\n",
        "Define and handle your own errors:"
      ]
    },
    {
      "cell_type": "code",
      "execution_count": null,
      "metadata": {
        "id": "C01mnvb9hPWs"
      },
      "outputs": [],
      "source": [
        "class CustomError(Exception):\n",
        "    pass\n",
        "\n",
        "@app.errorhandler(CustomError)\n",
        "def handle_custom_error(e):\n",
        "    return jsonify(error=str(e)), 400\n",
        "\n",
        "@app.route(\"/custom\")\n",
        "def custom():\n",
        "    raise CustomError(\"Something custom went wrong\")\n"
      ]
    },
    {
      "cell_type": "markdown",
      "metadata": {
        "id": "eR_-fjathU45"
      },
      "source": [
        "✅ 4. Abort\n",
        "Use abort() to manually trigger HTTP errors:\n"
      ]
    },
    {
      "cell_type": "code",
      "execution_count": null,
      "metadata": {
        "id": "Gwh6pXDlhX-P"
      },
      "outputs": [],
      "source": [
        "from flask import abort\n",
        "\n",
        "@app.route(\"/secret\")\n",
        "def secret():\n",
        "    abort(403)  # Forbidden\n"
      ]
    },
    {
      "cell_type": "markdown",
      "metadata": {
        "id": "a403GjctmUgI"
      },
      "source": [
        "11. How do you structure a Flask app using Blueprints?\n",
        "\n",
        "✅ 1. Project Structure"
      ]
    },
    {
      "cell_type": "code",
      "execution_count": null,
      "metadata": {
        "colab": {
          "base_uri": "https://localhost:8080/",
          "height": 106
        },
        "id": "Mnvp3X4phnq_",
        "outputId": "9f866d2f-61ed-43b8-8f8b-72be41a64f26"
      },
      "outputs": [
        {
          "ename": "SyntaxError",
          "evalue": "invalid character '├' (U+251C) (<ipython-input-12-1e0dffba6956>, line 2)",
          "output_type": "error",
          "traceback": [
            "\u001b[0;36m  File \u001b[0;32m\"<ipython-input-12-1e0dffba6956>\"\u001b[0;36m, line \u001b[0;32m2\u001b[0m\n\u001b[0;31m    ├── app.py\u001b[0m\n\u001b[0m    ^\u001b[0m\n\u001b[0;31mSyntaxError\u001b[0m\u001b[0;31m:\u001b[0m invalid character '├' (U+251C)\n"
          ]
        }
      ],
      "source": [
        "your_app/\n",
        "├── app.py\n",
        "├── __init__.py\n",
        "├── blueprints/\n",
        "│   ├── __init__.py\n",
        "│   ├── users/\n",
        "│   │   ├── __init__.py\n",
        "│   │   └── routes.py\n",
        "│   └── products/\n",
        "│       ├── __init__.py\n",
        "│       └── routes.py\n"
      ]
    },
    {
      "cell_type": "markdown",
      "metadata": {
        "id": "orRPla14hrYV"
      },
      "source": [
        "✅ 2. Blueprint Definition (routes.py)\n",
        "\n",
        "Example: blueprints/users/routes.py"
      ]
    },
    {
      "cell_type": "code",
      "execution_count": null,
      "metadata": {
        "id": "rgJGW46dhveo"
      },
      "outputs": [],
      "source": [
        "from flask import Blueprint, jsonify\n",
        "\n",
        "users_bp = Blueprint('users', __name__, url_prefix='/users')\n",
        "\n",
        "@users_bp.route('/')\n",
        "def get_users():\n",
        "    return jsonify(message=\"List of users\")\n"
      ]
    },
    {
      "cell_type": "markdown",
      "metadata": {
        "id": "nXJWvPuMhztc"
      },
      "source": [
        "✅ 3. Init File to Export Blueprint\n",
        "\n",
        "Example: blueprints/users/__init__.py\n",
        "\n"
      ]
    },
    {
      "cell_type": "code",
      "execution_count": null,
      "metadata": {
        "colab": {
          "base_uri": "https://localhost:8080/",
          "height": 314
        },
        "id": "vYc9EJljh4AF",
        "outputId": "933d377e-ee47-4005-80fc-a8a161bd6a21"
      },
      "outputs": [
        {
          "ename": "ImportError",
          "evalue": "attempted relative import with no known parent package",
          "output_type": "error",
          "traceback": [
            "\u001b[0;31m---------------------------------------------------------------------------\u001b[0m",
            "\u001b[0;31mImportError\u001b[0m                               Traceback (most recent call last)",
            "\u001b[0;32m<ipython-input-9-ce6cbaa1f66f>\u001b[0m in \u001b[0;36m<cell line: 0>\u001b[0;34m()\u001b[0m\n\u001b[0;32m----> 1\u001b[0;31m \u001b[0;32mfrom\u001b[0m \u001b[0;34m.\u001b[0m\u001b[0mroutes\u001b[0m \u001b[0;32mimport\u001b[0m \u001b[0musers_bp\u001b[0m\u001b[0;34m\u001b[0m\u001b[0;34m\u001b[0m\u001b[0m\n\u001b[0m",
            "\u001b[0;31mImportError\u001b[0m: attempted relative import with no known parent package",
            "",
            "\u001b[0;31m---------------------------------------------------------------------------\u001b[0;32m\nNOTE: If your import is failing due to a missing package, you can\nmanually install dependencies using either !pip or !apt.\n\nTo view examples of installing some common dependencies, click the\n\"Open Examples\" button below.\n\u001b[0;31m---------------------------------------------------------------------------\u001b[0m\n"
          ]
        }
      ],
      "source": [
        "from .routes import users_bp\n"
      ]
    },
    {
      "cell_type": "markdown",
      "metadata": {
        "id": "ooVvG-lDh7go"
      },
      "source": [
        "✅ 4. Register Blueprints in Main App\n",
        "\n",
        "Example: app.py"
      ]
    },
    {
      "cell_type": "code",
      "execution_count": null,
      "metadata": {
        "colab": {
          "base_uri": "https://localhost:8080/",
          "height": 383
        },
        "id": "gDDLqrdjh_zH",
        "outputId": "c6e6ffa7-d4e4-4448-f47d-2755be5bbe1a"
      },
      "outputs": [
        {
          "ename": "ModuleNotFoundError",
          "evalue": "No module named 'blueprints'",
          "output_type": "error",
          "traceback": [
            "\u001b[0;31m---------------------------------------------------------------------------\u001b[0m",
            "\u001b[0;31mModuleNotFoundError\u001b[0m                       Traceback (most recent call last)",
            "\u001b[0;32m<ipython-input-8-98352dc8c6ad>\u001b[0m in \u001b[0;36m<cell line: 0>\u001b[0;34m()\u001b[0m\n\u001b[1;32m      1\u001b[0m \u001b[0;32mfrom\u001b[0m \u001b[0mflask\u001b[0m \u001b[0;32mimport\u001b[0m \u001b[0mFlask\u001b[0m\u001b[0;34m\u001b[0m\u001b[0;34m\u001b[0m\u001b[0m\n\u001b[0;32m----> 2\u001b[0;31m \u001b[0;32mfrom\u001b[0m \u001b[0mblueprints\u001b[0m\u001b[0;34m.\u001b[0m\u001b[0musers\u001b[0m \u001b[0;32mimport\u001b[0m \u001b[0musers_bp\u001b[0m\u001b[0;34m\u001b[0m\u001b[0;34m\u001b[0m\u001b[0m\n\u001b[0m\u001b[1;32m      3\u001b[0m \u001b[0;32mfrom\u001b[0m \u001b[0mblueprints\u001b[0m\u001b[0;34m.\u001b[0m\u001b[0mproducts\u001b[0m\u001b[0;34m.\u001b[0m\u001b[0mroutes\u001b[0m \u001b[0;32mimport\u001b[0m \u001b[0mproducts_bp\u001b[0m\u001b[0;34m\u001b[0m\u001b[0;34m\u001b[0m\u001b[0m\n\u001b[1;32m      4\u001b[0m \u001b[0;34m\u001b[0m\u001b[0m\n\u001b[1;32m      5\u001b[0m \u001b[0mapp\u001b[0m \u001b[0;34m=\u001b[0m \u001b[0mFlask\u001b[0m\u001b[0;34m(\u001b[0m\u001b[0m__name__\u001b[0m\u001b[0;34m)\u001b[0m\u001b[0;34m\u001b[0m\u001b[0;34m\u001b[0m\u001b[0m\n",
            "\u001b[0;31mModuleNotFoundError\u001b[0m: No module named 'blueprints'",
            "",
            "\u001b[0;31m---------------------------------------------------------------------------\u001b[0;32m\nNOTE: If your import is failing due to a missing package, you can\nmanually install dependencies using either !pip or !apt.\n\nTo view examples of installing some common dependencies, click the\n\"Open Examples\" button below.\n\u001b[0;31m---------------------------------------------------------------------------\u001b[0m\n"
          ]
        }
      ],
      "source": [
        "from flask import Flask\n",
        "from blueprints.users import users_bp\n",
        "from blueprints.products.routes import products_bp\n",
        "\n",
        "app = Flask(__name__)\n",
        "app.register_blueprint(users_bp)\n",
        "app.register_blueprint(products_bp)\n",
        "\n",
        "if __name__ == \"__main__\":\n",
        "    app.run(debug=True)\n"
      ]
    },
    {
      "cell_type": "markdown",
      "metadata": {
        "id": "SyGBptPHmhA2"
      },
      "source": [
        "12. How do you define a custom Jinja filter in Flask?\n",
        "\n",
        "✅ 1. Define the Filter Function"
      ]
    },
    {
      "cell_type": "code",
      "execution_count": null,
      "metadata": {
        "colab": {
          "base_uri": "https://localhost:8080/",
          "height": 106
        },
        "id": "4GWUWBIHiS6x",
        "outputId": "c3211d32-8244-4fce-c065-4b293633555c"
      },
      "outputs": [
        {
          "ename": "SyntaxError",
          "evalue": "incomplete input (<ipython-input-7-8ea524c3f2e1>, line 2)",
          "output_type": "error",
          "traceback": [
            "\u001b[0;36m  File \u001b[0;32m\"<ipython-input-7-8ea524c3f2e1>\"\u001b[0;36m, line \u001b[0;32m2\u001b[0m\n\u001b[0;31m    return s[::-1\u001b[0m\n\u001b[0m                 ^\u001b[0m\n\u001b[0;31mSyntaxError\u001b[0m\u001b[0;31m:\u001b[0m incomplete input\n"
          ]
        }
      ],
      "source": [
        "def reverse_string(s):\n",
        "    return s[::-1\n"
      ]
    },
    {
      "cell_type": "markdown",
      "metadata": {
        "id": "HIJJRAYNmtpb"
      },
      "source": [
        "13. How can you redirect with a query parameter in Flask?"
      ]
    },
    {
      "cell_type": "code",
      "execution_count": null,
      "metadata": {
        "id": "TYgaIHK0ibcO"
      },
      "outputs": [],
      "source": [
        "from flask import Flask, redirect, url_for, request\n",
        "\n",
        "app = Flask(__name__)\n",
        "\n",
        "@app.route('/go')\n",
        "def go():\n",
        "    return redirect(url_for('target', name='Nabi', age=30))\n",
        "\n",
        "@app.route('/target')\n",
        "def target():\n",
        "    name = request.args.get('name')\n",
        "    age = request.args.get('age')\n",
        "    return f\"Name: {name}, Age: {age}\"\n"
      ]
    },
    {
      "cell_type": "markdown",
      "metadata": {
        "id": "qRgPECK8ifz0"
      },
      "source": [
        "🔍 What Happens\n",
        "/go redirects to /target?name=Nabi&age=30\n",
        "\n",
        "request.args.get() fetches query params\n",
        "\n"
      ]
    },
    {
      "cell_type": "markdown",
      "metadata": {
        "id": "QrdEaoztm9jU"
      },
      "source": [
        "14. How do you return JSON responses in Flask?\n",
        "\n",
        "In Flask, return JSON responses using either jsonify() or a Response with json.dumps().\n",
        "\n",
        "✅ 1. Using jsonify() (Recommended)\n"
      ]
    },
    {
      "cell_type": "code",
      "execution_count": null,
      "metadata": {
        "id": "AZC1nVqxiwTN"
      },
      "outputs": [],
      "source": [
        "from flask import Flask, jsonify\n",
        "\n",
        "app = Flask(__name__)\n",
        "\n",
        "@app.route('/data')\n",
        "def get_data():\n",
        "    return jsonify(status=\"success\", data={\"user\": \"Nabi\"})\n"
      ]
    },
    {
      "cell_type": "markdown",
      "metadata": {
        "id": "jyIZMQF7i0DF"
      },
      "source": [
        "✅ 2. Using Response + json.dumps()"
      ]
    },
    {
      "cell_type": "code",
      "execution_count": null,
      "metadata": {
        "colab": {
          "base_uri": "https://localhost:8080/",
          "height": 211
        },
        "id": "I09yAM0ki2pK",
        "outputId": "9a16ab39-1fd7-4389-9e7e-ef68f4415002"
      },
      "outputs": [
        {
          "ename": "NameError",
          "evalue": "name 'app' is not defined",
          "output_type": "error",
          "traceback": [
            "\u001b[0;31m---------------------------------------------------------------------------\u001b[0m",
            "\u001b[0;31mNameError\u001b[0m                                 Traceback (most recent call last)",
            "\u001b[0;32m<ipython-input-4-f086fc34120b>\u001b[0m in \u001b[0;36m<cell line: 0>\u001b[0;34m()\u001b[0m\n\u001b[1;32m      2\u001b[0m \u001b[0;32mimport\u001b[0m \u001b[0mjson\u001b[0m\u001b[0;34m\u001b[0m\u001b[0;34m\u001b[0m\u001b[0m\n\u001b[1;32m      3\u001b[0m \u001b[0;34m\u001b[0m\u001b[0m\n\u001b[0;32m----> 4\u001b[0;31m \u001b[0;34m@\u001b[0m\u001b[0mapp\u001b[0m\u001b[0;34m.\u001b[0m\u001b[0mroute\u001b[0m\u001b[0;34m(\u001b[0m\u001b[0;34m'/manual'\u001b[0m\u001b[0;34m)\u001b[0m\u001b[0;34m\u001b[0m\u001b[0;34m\u001b[0m\u001b[0m\n\u001b[0m\u001b[1;32m      5\u001b[0m \u001b[0;32mdef\u001b[0m \u001b[0mmanual_json\u001b[0m\u001b[0;34m(\u001b[0m\u001b[0;34m)\u001b[0m\u001b[0;34m:\u001b[0m\u001b[0;34m\u001b[0m\u001b[0;34m\u001b[0m\u001b[0m\n\u001b[1;32m      6\u001b[0m     \u001b[0mdata\u001b[0m \u001b[0;34m=\u001b[0m \u001b[0;34m{\u001b[0m\u001b[0;34m\"status\"\u001b[0m\u001b[0;34m:\u001b[0m \u001b[0;34m\"ok\"\u001b[0m\u001b[0;34m}\u001b[0m\u001b[0;34m\u001b[0m\u001b[0;34m\u001b[0m\u001b[0m\n",
            "\u001b[0;31mNameError\u001b[0m: name 'app' is not defined"
          ]
        }
      ],
      "source": [
        "from flask import Response\n",
        "import json\n",
        "\n",
        "@app.route('/manual')\n",
        "def manual_json():\n",
        "    data = {\"status\": \"ok\"}\n",
        "    return Response(json.dumps(data), mimetype='application/json')\n",
        "\n"
      ]
    },
    {
      "cell_type": "markdown",
      "metadata": {
        "id": "RtGnNqIIi6l_"
      },
      "source": [
        "✅ Auto sets headers:\n",
        "jsonify() automatically sets Content-Type: application/json\n",
        "\n"
      ]
    },
    {
      "cell_type": "markdown",
      "metadata": {
        "id": "qJqyeB91nJzx"
      },
      "source": [
        "15. How do you capture URL parameters in Flask?\n",
        "\n",
        "In Flask, capture URL parameters by defining them in the route with < > and accessing them as function arguments.\n",
        "\n",
        "✅ Example — Capturing a string parameter"
      ]
    },
    {
      "cell_type": "code",
      "execution_count": null,
      "metadata": {
        "colab": {
          "base_uri": "https://localhost:8080/",
          "height": 176
        },
        "id": "L-gHkh4qZoX9",
        "outputId": "b3773669-3f6d-4acc-a10a-2367e7de609c"
      },
      "outputs": [
        {
          "ename": "NameError",
          "evalue": "name 'app' is not defined",
          "output_type": "error",
          "traceback": [
            "\u001b[0;31m---------------------------------------------------------------------------\u001b[0m",
            "\u001b[0;31mNameError\u001b[0m                                 Traceback (most recent call last)",
            "\u001b[0;32m<ipython-input-3-457ed803ff60>\u001b[0m in \u001b[0;36m<cell line: 0>\u001b[0;34m()\u001b[0m\n\u001b[0;32m----> 1\u001b[0;31m \u001b[0;34m@\u001b[0m\u001b[0mapp\u001b[0m\u001b[0;34m.\u001b[0m\u001b[0mroute\u001b[0m\u001b[0;34m(\u001b[0m\u001b[0;34m'/user/<username>'\u001b[0m\u001b[0;34m)\u001b[0m\u001b[0;34m\u001b[0m\u001b[0;34m\u001b[0m\u001b[0m\n\u001b[0m\u001b[1;32m      2\u001b[0m \u001b[0;32mdef\u001b[0m \u001b[0muser_profile\u001b[0m\u001b[0;34m(\u001b[0m\u001b[0musername\u001b[0m\u001b[0;34m)\u001b[0m\u001b[0;34m:\u001b[0m\u001b[0;34m\u001b[0m\u001b[0;34m\u001b[0m\u001b[0m\n\u001b[1;32m      3\u001b[0m     \u001b[0;32mreturn\u001b[0m \u001b[0;34mf\"User: {username}\"\u001b[0m\u001b[0;34m\u001b[0m\u001b[0;34m\u001b[0m\u001b[0m\n",
            "\u001b[0;31mNameError\u001b[0m: name 'app' is not defined"
          ]
        }
      ],
      "source": [
        "@app.route('/user/<username>')\n",
        "def user_profile(username):\n",
        "    return f\"User: {username}\"\n"
      ]
    },
    {
      "cell_type": "markdown",
      "metadata": {
        "id": "8FATmPMwjN_9"
      },
      "source": [
        "✅ Example — Capturing an integer parameter"
      ]
    },
    {
      "cell_type": "code",
      "execution_count": null,
      "metadata": {
        "colab": {
          "base_uri": "https://localhost:8080/",
          "height": 176
        },
        "id": "PknLBqiijSu5",
        "outputId": "3ef9e3db-3cee-4fe9-df5c-3062beb7f93d"
      },
      "outputs": [
        {
          "ename": "NameError",
          "evalue": "name 'app' is not defined",
          "output_type": "error",
          "traceback": [
            "\u001b[0;31m---------------------------------------------------------------------------\u001b[0m",
            "\u001b[0;31mNameError\u001b[0m                                 Traceback (most recent call last)",
            "\u001b[0;32m<ipython-input-2-b2ce544a4a09>\u001b[0m in \u001b[0;36m<cell line: 0>\u001b[0;34m()\u001b[0m\n\u001b[0;32m----> 1\u001b[0;31m \u001b[0;34m@\u001b[0m\u001b[0mapp\u001b[0m\u001b[0;34m.\u001b[0m\u001b[0mroute\u001b[0m\u001b[0;34m(\u001b[0m\u001b[0;34m'/post/<int:post_id>'\u001b[0m\u001b[0;34m)\u001b[0m\u001b[0;34m\u001b[0m\u001b[0;34m\u001b[0m\u001b[0m\n\u001b[0m\u001b[1;32m      2\u001b[0m \u001b[0;32mdef\u001b[0m \u001b[0mshow_post\u001b[0m\u001b[0;34m(\u001b[0m\u001b[0mpost_id\u001b[0m\u001b[0;34m)\u001b[0m\u001b[0;34m:\u001b[0m\u001b[0;34m\u001b[0m\u001b[0;34m\u001b[0m\u001b[0m\n\u001b[1;32m      3\u001b[0m     \u001b[0;32mreturn\u001b[0m \u001b[0;34mf\"Post ID: {post_id}\"\u001b[0m\u001b[0;34m\u001b[0m\u001b[0;34m\u001b[0m\u001b[0m\n",
            "\u001b[0;31mNameError\u001b[0m: name 'app' is not defined"
          ]
        }
      ],
      "source": [
        "@app.route('/post/<int:post_id>')\n",
        "def show_post(post_id):\n",
        "    return f\"Post ID: {post_id}\"\n"
      ]
    },
    {
      "cell_type": "markdown",
      "metadata": {
        "id": "MU39OKqjjZgK"
      },
      "source": [
        "You can also capture multiple parameters:"
      ]
    },
    {
      "cell_type": "code",
      "execution_count": null,
      "metadata": {
        "colab": {
          "base_uri": "https://localhost:8080/",
          "height": 176
        },
        "id": "j6O8610Dja2o",
        "outputId": "5b5e229e-75ed-4c6e-ff1f-472234d6b59b"
      },
      "outputs": [
        {
          "ename": "NameError",
          "evalue": "name 'app' is not defined",
          "output_type": "error",
          "traceback": [
            "\u001b[0;31m---------------------------------------------------------------------------\u001b[0m",
            "\u001b[0;31mNameError\u001b[0m                                 Traceback (most recent call last)",
            "\u001b[0;32m<ipython-input-1-63b7d25f97bf>\u001b[0m in \u001b[0;36m<cell line: 0>\u001b[0;34m()\u001b[0m\n\u001b[0;32m----> 1\u001b[0;31m \u001b[0;34m@\u001b[0m\u001b[0mapp\u001b[0m\u001b[0;34m.\u001b[0m\u001b[0mroute\u001b[0m\u001b[0;34m(\u001b[0m\u001b[0;34m'/order/<int:order_id>/item/<item_name>'\u001b[0m\u001b[0;34m)\u001b[0m\u001b[0;34m\u001b[0m\u001b[0;34m\u001b[0m\u001b[0m\n\u001b[0m\u001b[1;32m      2\u001b[0m \u001b[0;32mdef\u001b[0m \u001b[0morder_item\u001b[0m\u001b[0;34m(\u001b[0m\u001b[0morder_id\u001b[0m\u001b[0;34m,\u001b[0m \u001b[0mitem_name\u001b[0m\u001b[0;34m)\u001b[0m\u001b[0;34m:\u001b[0m\u001b[0;34m\u001b[0m\u001b[0;34m\u001b[0m\u001b[0m\n\u001b[1;32m      3\u001b[0m     \u001b[0;32mreturn\u001b[0m \u001b[0;34mf\"Order {order_id}, Item: {item_name}\"\u001b[0m\u001b[0;34m\u001b[0m\u001b[0;34m\u001b[0m\u001b[0m\n",
            "\u001b[0;31mNameError\u001b[0m: name 'app' is not defined"
          ]
        }
      ],
      "source": [
        "@app.route('/order/<int:order_id>/item/<item_name>')\n",
        "def order_item(order_id, item_name):\n",
        "    return f\"Order {order_id}, Item: {item_name}\"\n"
      ]
    },
    {
      "cell_type": "code",
      "execution_count": null,
      "metadata": {
        "id": "FTLlcNrUtsY2"
      },
      "outputs": [],
      "source": [
        "2+2"
      ]
    }
  ],
  "metadata": {
    "colab": {
      "provenance": []
    },
    "kernelspec": {
      "display_name": "Python 3",
      "name": "python3"
    },
    "language_info": {
      "name": "python"
    }
  },
  "nbformat": 4,
  "nbformat_minor": 0
}